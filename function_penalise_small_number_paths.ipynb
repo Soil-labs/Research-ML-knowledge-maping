{
  "nbformat": 4,
  "nbformat_minor": 0,
  "metadata": {
    "colab": {
      "provenance": [],
      "authorship_tag": "ABX9TyNmMBteJVBRm02vdLEyjCtz",
      "include_colab_link": true
    },
    "kernelspec": {
      "name": "python3",
      "display_name": "Python 3"
    },
    "language_info": {
      "name": "python"
    }
  },
  "cells": [
    {
      "cell_type": "markdown",
      "metadata": {
        "id": "view-in-github",
        "colab_type": "text"
      },
      "source": [
        "<a href=\"https://colab.research.google.com/github/Soil-labs/Research-ML-knowledge-maping/blob/main/function_penalise_small_number_paths.ipynb\" target=\"_parent\"><img src=\"https://colab.research.google.com/assets/colab-badge.svg\" alt=\"Open In Colab\"/></a>"
      ]
    },
    {
      "cell_type": "code",
      "execution_count": 29,
      "metadata": {
        "colab": {
          "base_uri": "https://localhost:8080/",
          "height": 279
        },
        "id": "AlC47JpvRV-l",
        "outputId": "d4404f28-c304-4e46-ebbf-40bc6bfa80df"
      },
      "outputs": [
        {
          "output_type": "display_data",
          "data": {
            "text/plain": [
              "<Figure size 432x288 with 1 Axes>"
            ],
            "image/png": "[encoded data removed]"
          },
          "metadata": {
            "needs_background": "light"
          }
        }
      ],
      "source": [
        "import matplotlib.pyplot as plt\n",
        "\n",
        "# Generate values for n\n",
        "n_values = range(2, 10)\n",
        "\n",
        "# Compute y values\n",
        "y_values = [1-1/(n**1.4) for n in n_values]\n",
        "\n",
        "# Set up plot\n",
        "fig, ax = plt.subplots()\n",
        "ax.plot(n_values, y_values)\n",
        "\n",
        "# Set axis labels\n",
        "ax.set_xlabel(\"n\")\n",
        "ax.set_ylabel(\"y\")\n",
        "\n",
        "# Add title\n",
        "# ax.set_title(\"y = 1-1/n\")\n",
        "\n",
        "# Show plot\n",
        "plt.show()\n"
      ]
    },
    {
      "cell_type": "code",
      "source": [],
      "metadata": {
        "id": "hW4KPPKQit_O"
      },
      "execution_count": null,
      "outputs": []
    }
  ]
}